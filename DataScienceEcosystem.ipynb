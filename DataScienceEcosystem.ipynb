{
  "nbformat": 4,
  "nbformat_minor": 0,
  "metadata": {
    "colab": {
      "provenance": []
    },
    "kernelspec": {
      "name": "python3",
      "display_name": "Python 3"
    },
    "language_info": {
      "name": "python"
    }
  },
  "cells": [
    {
      "cell_type": "markdown",
      "source": [
        "# Data Science Tools and Ecosystem\n",
        "\n"
      ],
      "metadata": {
        "id": "Nq2aE0Z6YJU4"
      }
    },
    {
      "cell_type": "markdown",
      "source": [
        "In this notebook, Data Science Tools and Ecosystem are summarized.\n",
        "\n"
      ],
      "metadata": {
        "id": "Fnj99DsxY3DO"
      }
    },
    {
      "cell_type": "markdown",
      "source": [
        "Some of the popular languages that Data Scientists use are:\n",
        "1. Python\n",
        "2. R\n",
        "3. SQL\n",
        "4. Julia\n",
        "5. Scala\n",
        "\n"
      ],
      "metadata": {
        "id": "TipBo6lIY-lr"
      }
    },
    {
      "cell_type": "markdown",
      "source": [
        "Some of the commonly used libraries used by Data Scientists include:\n",
        "1. Pandas\n",
        "2. NumPy\n",
        "3. Matplotlib\n",
        "4. TensorFlow\n",
        "5. Scikit-learn\n"
      ],
      "metadata": {
        "id": "EpWWn-O8ZZC-"
      }
    },
    {
      "cell_type": "markdown",
      "source": [
        "| Data Science Tools          |\n",
        "|-----------------------------|\n",
        "| Jupyter Notebook            |\n",
        "| RStudio                     |\n",
        "| Apache Zeppelin             |\n"
      ],
      "metadata": {
        "id": "O09PYfERZm_N"
      }
    },
    {
      "cell_type": "markdown",
      "source": [
        "### Below are a few examples of evaluating arithmetic expressions in Python.\n",
        "\n"
      ],
      "metadata": {
        "id": "XkMB5Tf-Z04g"
      }
    },
    {
      "cell_type": "code",
      "source": [
        "# This is a simple arithmetic expression to multiply then add integers.\n",
        "(3 * 4) + 5\n"
      ],
      "metadata": {
        "colab": {
          "base_uri": "https://localhost:8080/"
        },
        "id": "pBNcLuGGaWXA",
        "outputId": "552dc197-b8a8-4e66-89ec-86d5330e7e68"
      },
      "execution_count": 1,
      "outputs": [
        {
          "output_type": "execute_result",
          "data": {
            "text/plain": [
              "17"
            ]
          },
          "metadata": {},
          "execution_count": 1
        }
      ]
    },
    {
      "cell_type": "code",
      "source": [
        "# This will convert 200 minutes to hours by dividing by 60.\n",
        "200 / 60\n"
      ],
      "metadata": {
        "colab": {
          "base_uri": "https://localhost:8080/"
        },
        "id": "181-Wi8Watj2",
        "outputId": "67acf11c-9a79-431b-bf25-d10a52baaada"
      },
      "execution_count": 2,
      "outputs": [
        {
          "output_type": "execute_result",
          "data": {
            "text/plain": [
              "3.3333333333333335"
            ]
          },
          "metadata": {},
          "execution_count": 2
        }
      ]
    },
    {
      "cell_type": "markdown",
      "source": [
        "**Objectives:**\n",
        "- List popular languages for Data Science.\n",
        "- Identify commonly used Data Science libraries.\n",
        "- Demonstrate arithmetic operations in Python.\n",
        "- Provide an overview of Data Science tools.\n"
      ],
      "metadata": {
        "id": "uxTjjvxhbAOh"
      }
    },
    {
      "cell_type": "markdown",
      "source": [
        "## Author  \n",
        "Sikandar Ali\n"
      ],
      "metadata": {
        "id": "a-MoEKSQba4C"
      }
    },
    {
      "cell_type": "markdown",
      "source": [],
      "metadata": {
        "id": "Ye84WVRCbdHK"
      }
    }
  ]
}